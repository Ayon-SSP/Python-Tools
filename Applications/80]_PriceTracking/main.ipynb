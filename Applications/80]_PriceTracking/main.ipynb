{
 "cells": [
  {
   "cell_type": "code",
   "execution_count": 1,
   "metadata": {},
   "outputs": [],
   "source": [
    "import requests\n",
    "from bs4 import BeautifulSoup # to butyfiy the html code"
   ]
  },
  {
   "cell_type": "code",
   "execution_count": 2,
   "metadata": {},
   "outputs": [],
   "source": [
    "URL = \"https://amzn.eu/d/9fDIW2f\"\n",
    "Headers = {\n",
    "    \"User-Agent\": \"Mozilla/5.0 (Windows NT 10.0; Win64; x64) AppleWebKit/537.36 (KHTML, like Gecko) Chrome/108.0.0.0 Safari/537.36\"\n",
    "} # get the \"User-Agent\" from the browser by searching \"my user agent\""
   ]
  },
  {
   "cell_type": "code",
   "execution_count": 3,
   "metadata": {},
   "outputs": [
    {
     "data": {
      "text/plain": [
       "<Response [200]>"
      ]
     },
     "execution_count": 3,
     "metadata": {},
     "output_type": "execute_result"
    }
   ],
   "source": [
    "page = requests.get(URL, headers=Headers)\n",
    "page  # 200 means the page is loaded successfully\n",
    "# 503 means the page is not loaded successfully due to some reason like not having the \"User-Agent\" or the page is not available"
   ]
  },
  {
   "cell_type": "code",
   "execution_count": 7,
   "metadata": {},
   "outputs": [],
   "source": [
    "soup = BeautifulSoup(page.content, \"html.parser\")  # to beautify the html code"
   ]
  },
  {
   "cell_type": "code",
   "execution_count": 8,
   "metadata": {},
   "outputs": [
    {
     "data": {
      "text/plain": [
       "3695.0"
      ]
     },
     "execution_count": 8,
     "metadata": {},
     "output_type": "execute_result"
    }
   ],
   "source": [
    "price = soup.find(class_=\"a-price-whole\").get_text()  # to get the price\n",
    "price = float(price.replace(\".\", \"\").replace(\",\", \"\") )\n",
    "price"
   ]
  },
  {
   "cell_type": "code",
   "execution_count": 34,
   "metadata": {},
   "outputs": [
    {
     "data": {
      "text/plain": [
       "'        Samsung Galaxy Tab S6 Lite 26.31 cm (10.4 inch), S-Pen in Box, Slim and Light, Dolby Atmos Sound, 4 GB RAM, 64 GB ROM, Wi-Fi Tablet, Gray       '"
      ]
     },
     "execution_count": 34,
     "metadata": {},
     "output_type": "execute_result"
    }
   ],
   "source": [
    "soup.find(id=\"productTitle\").text"
   ]
  },
  {
   "cell_type": "code",
   "execution_count": 41,
   "metadata": {},
   "outputs": [
    {
     "data": {
      "text/plain": [
       "'https://m.media-amazon.com/images/I/31DXYJIviUL._SY300_SX300_QL70_ML2_.jpg'"
      ]
     },
     "execution_count": 41,
     "metadata": {},
     "output_type": "execute_result"
    }
   ],
   "source": [
    "ImageLink = soup.find(id=\"imgTagWrapperId\").img[\"src\"]\n"
   ]
  },
  {
   "cell_type": "code",
   "execution_count": 8,
   "metadata": {},
   "outputs": [],
   "source": [
    "search = input()\n",
    "lst = search.split(\" \")\n",
    "temp = '+'.join(lst)\n"
   ]
  },
  {
   "cell_type": "code",
   "execution_count": 10,
   "metadata": {},
   "outputs": [],
   "source": [
    "TempURL = \"https://www.amazon.in/s?k=\"\n",
    "URL = URL + temp"
   ]
  },
  {
   "cell_type": "code",
   "execution_count": null,
   "metadata": {},
   "outputs": [],
   "source": []
  },
  {
   "cell_type": "code",
   "execution_count": null,
   "metadata": {},
   "outputs": [],
   "source": [
    "import smtplib\n",
    "server = smtplib.SMTP('smtp.gmail.com', 587) \n",
    "\n",
    "clgMails = ['200303124271@paruluniversity.ac.in']\n",
    "\n",
    "\n",
    "\n",
    "\n",
    "\n",
    "\n",
    "for clgMail in clgMails:\n",
    "    server.sendmail(senderMail,clgMail,'Test was sucessfull')\n",
    "print('send mail')"
   ]
  },
  {
   "cell_type": "code",
   "execution_count": null,
   "metadata": {},
   "outputs": [],
   "source": [
    "\n",
    "\n",
    "clgMails = ['200303124271@paruluniversity.ac.in']\n",
    "\n",
    "senderMail,senderPassword = 'exptemptotest@gmail.com','nocdzdqflssnnmra'\n",
    "receiverMail = 'ayoniiiiii10@gmail.com'\n",
    "\n",
    "\n",
    "server.starttls()\n",
    "server.login(senderMail,senderPassword)\n",
    "for clgMail in clgMails:\n",
    "    server.sendmail(senderMail,clgMail,'Test was sucessfull')\n",
    "print('send mail')\n",
    "\n",
    "\n",
    "import smtplib\n",
    "def notify(receiverMail):\n",
    "    server = smtplib.SMTP('smtp.gmail.com', 587) \n",
    "    server.starttls()\n",
    "    senderMail,senderPassword = 'exptemptotest@gmail.com','nocdzdqflssnnmra'\n",
    "    \n",
    "    server.login(senderMail,senderPassword)\n",
    "    \n",
    "    \n",
    "    subject = 'HURRY BUY NOW! 📺'\n",
    "    body = \"Price Hase Falled. Go Buy Now\" + URL\n",
    "    msg = f\"Subject: {subject}\\n\\n{body}\"\n",
    "    server.sendmail(senderMail,receiverMail,msg)\n",
    "    server.quit()\n",
    "    \n",
    "receiverMail = 'ayoniiiiii10@gmail.com'\n",
    "notify(receiverMail)"
   ]
  },
  {
   "cell_type": "code",
   "execution_count": null,
   "metadata": {},
   "outputs": [],
   "source": [
    "from email.message import EmailMessage\n",
    "def sendMain():\n",
    "    server = smtplib.SMTP('smtp.gmail.com', 587) \n",
    "    server.starttls()\n",
    "\n",
    "    senderMail,senderPassword = 'exptemptotest@gmail.com','nocdzdqflssnnmra'\n",
    "    clgMail = '200303124271@paruluniversity.ac.in'\n",
    "\n",
    "    subject = 'HURRY BUY NOW! 📺'\n",
    "    body = \"Price Hase Falled. Go Buy Now\" + URL\n",
    "    server.login(senderMail,senderPassword)\n",
    "    message = 'Subject: {}\\n\\n{}'.format(SUBJECT, TEXT)\n",
    "    server.sendmail(senderMail,clgMail,'Subject: {}\\n\\n{}'.format(subject, body))\n",
    "    \n",
    "\n",
    "\n",
    "msg = EmailMessage()\n",
    "msg.set_content('This is my message')\n",
    "\n",
    "msg['Subject'] = 'Subject'\n",
    "msg['From'] = \"me@gmail.com\"\n",
    "msg['To'] = \"you@gmail.com\"\n",
    "\n",
    "# Send the message via our own SMTP server.\n",
    "server = smtplib.SMTP_SSL('smtp.gmail.com', 465)\n",
    "server.login(\"me@gmail.com\", \"password\")\n",
    "server.send_message(msg)\n",
    "server.quit()\n",
    "    \n",
    "    \n",
    "    \n",
    "print('send mail')\n",
    "server.quit()\n",
    "sendMain()"
   ]
  },
  {
   "cell_type": "code",
   "execution_count": null,
   "metadata": {},
   "outputs": [],
   "source": [
    "import smtplib\n",
    "from email.message import EmailMessage\n",
    "\n",
    "\n",
    "\n",
    "msg = EmailMessage()\n",
    "msg.set_content('This is my message')\n",
    "\n",
    "msg['Subject'] = 'This is the sub titles'\n",
    "msg['From'] = \"exptemptotest@gmail.com\"\n",
    "msg['To'] = '200303124271@paruluniversity.ac.in'\n",
    "\n",
    "# Send the message via our own SMTP server.\n",
    "server = smtplib.SMTP_SSL('smtp.gmail.com', 465)\n",
    "server.login('exptemptotest@gmail.com', 'nocdzdqflssnnmra')\n",
    "server.send_message(msg)\n",
    "server.quit()"
   ]
  },
  {
   "cell_type": "code",
   "execution_count": 36,
   "metadata": {},
   "outputs": [
    {
     "name": "stdout",
     "output_type": "stream",
     "text": [
      "Mail Sent\n"
     ]
    }
   ],
   "source": []
  }
 ],
 "metadata": {
  "kernelspec": {
   "display_name": "Python 3",
   "language": "python",
   "name": "python3"
  },
  "language_info": {
   "codemirror_mode": {
    "name": "ipython",
    "version": 3
   },
   "file_extension": ".py",
   "mimetype": "text/x-python",
   "name": "python",
   "nbconvert_exporter": "python",
   "pygments_lexer": "ipython3",
   "version": "3.10.10"
  },
  "orig_nbformat": 4,
  "vscode": {
   "interpreter": {
    "hash": "8bf0d51478355d2251941b3b98616086516a0eddd7c72ee47a3371765770709a"
   }
  }
 },
 "nbformat": 4,
 "nbformat_minor": 2
}
